{
  "nbformat": 4,
  "nbformat_minor": 0,
  "metadata": {
    "colab": {
      "provenance": [],
      "gpuType": "T4"
    },
    "kernelspec": {
      "name": "python3",
      "display_name": "Python 3"
    },
    "language_info": {
      "name": "python"
    },
    "accelerator": "GPU"
  },
  "cells": [
    {
      "cell_type": "code",
      "execution_count": null,
      "metadata": {
        "colab": {
          "base_uri": "https://localhost:8080/"
        },
        "id": "qemev0_qb6FX",
        "outputId": "3481ce15-6676-46c9-af42-928f1303d2a9"
      },
      "outputs": [
        {
          "output_type": "stream",
          "name": "stdout",
          "text": [
            "Tue Apr 15 04:05:16 2025       \n",
            "+-----------------------------------------------------------------------------------------+\n",
            "| NVIDIA-SMI 550.54.15              Driver Version: 550.54.15      CUDA Version: 12.4     |\n",
            "|-----------------------------------------+------------------------+----------------------+\n",
            "| GPU  Name                 Persistence-M | Bus-Id          Disp.A | Volatile Uncorr. ECC |\n",
            "| Fan  Temp   Perf          Pwr:Usage/Cap |           Memory-Usage | GPU-Util  Compute M. |\n",
            "|                                         |                        |               MIG M. |\n",
            "|=========================================+========================+======================|\n",
            "|   0  Tesla T4                       Off |   00000000:00:04.0 Off |                    0 |\n",
            "| N/A   43C    P8             10W /   70W |       0MiB /  15360MiB |      0%      Default |\n",
            "|                                         |                        |                  N/A |\n",
            "+-----------------------------------------+------------------------+----------------------+\n",
            "                                                                                         \n",
            "+-----------------------------------------------------------------------------------------+\n",
            "| Processes:                                                                              |\n",
            "|  GPU   GI   CI        PID   Type   Process name                              GPU Memory |\n",
            "|        ID   ID                                                               Usage      |\n",
            "|=========================================================================================|\n",
            "|  No running processes found                                                             |\n",
            "+-----------------------------------------------------------------------------------------+\n"
          ]
        }
      ],
      "source": [
        "!nvidia-smi"
      ]
    },
    {
      "cell_type": "code",
      "source": [
        "import os\n",
        "HOME = os.getcwd()\n",
        "print(HOME)"
      ],
      "metadata": {
        "colab": {
          "base_uri": "https://localhost:8080/"
        },
        "id": "s3-NHh8XgAJk",
        "outputId": "4c531025-1a3f-4fdd-bdc1-f81ad374308f"
      },
      "execution_count": null,
      "outputs": [
        {
          "output_type": "stream",
          "name": "stdout",
          "text": [
            "/content\n"
          ]
        }
      ]
    },
    {
      "cell_type": "code",
      "source": [
        "!pip install ultralytics roboflow -q"
      ],
      "metadata": {
        "colab": {
          "base_uri": "https://localhost:8080/"
        },
        "id": "pESH-u05gFh_",
        "outputId": "2e658001-a668-4617-d486-14e69803ee53"
      },
      "execution_count": null,
      "outputs": [
        {
          "output_type": "stream",
          "name": "stdout",
          "text": [
            "\u001b[?25l   \u001b[90m━━━━━━━━━━━━━━━━━━━━━━━━━━━━━━━━━━━━━━━━\u001b[0m \u001b[32m0.0/974.8 kB\u001b[0m \u001b[31m?\u001b[0m eta \u001b[36m-:--:--\u001b[0m\r\u001b[2K   \u001b[90m━━━━━━━━━━━━━━━━━━━━━━━━━━━━━━━━━━━━━━━━\u001b[0m \u001b[32m974.8/974.8 kB\u001b[0m \u001b[31m37.6 MB/s\u001b[0m eta \u001b[36m0:00:00\u001b[0m\n",
            "\u001b[?25h\u001b[?25l   \u001b[90m━━━━━━━━━━━━━━━━━━━━━━━━━━━━━━━━━━━━━━━━\u001b[0m \u001b[32m0.0/85.2 kB\u001b[0m \u001b[31m?\u001b[0m eta \u001b[36m-:--:--\u001b[0m\r\u001b[2K   \u001b[90m━━━━━━━━━━━━━━━━━━━━━━━━━━━━━━━━━━━━━━━━\u001b[0m \u001b[32m85.2/85.2 kB\u001b[0m \u001b[31m6.7 MB/s\u001b[0m eta \u001b[36m0:00:00\u001b[0m\n",
            "\u001b[2K   \u001b[90m━━━━━━━━━━━━━━━━━━━━━━━━━━━━━━━━━━━━━━━━\u001b[0m \u001b[32m66.8/66.8 kB\u001b[0m \u001b[31m4.7 MB/s\u001b[0m eta \u001b[36m0:00:00\u001b[0m\n",
            "\u001b[2K   \u001b[90m━━━━━━━━━━━━━━━━━━━━━━━━━━━━━━━━━━━━━━━━\u001b[0m \u001b[32m49.9/49.9 MB\u001b[0m \u001b[31m18.8 MB/s\u001b[0m eta \u001b[36m0:00:00\u001b[0m\n",
            "\u001b[2K   \u001b[90m━━━━━━━━━━━━━━━━━━━━━━━━━━━━━━━━━━━━━━━━\u001b[0m \u001b[32m7.8/7.8 MB\u001b[0m \u001b[31m117.3 MB/s\u001b[0m eta \u001b[36m0:00:00\u001b[0m\n",
            "\u001b[2K   \u001b[90m━━━━━━━━━━━━━━━━━━━━━━━━━━━━━━━━━━━━━━━━\u001b[0m \u001b[32m363.4/363.4 MB\u001b[0m \u001b[31m3.8 MB/s\u001b[0m eta \u001b[36m0:00:00\u001b[0m\n",
            "\u001b[2K   \u001b[90m━━━━━━━━━━━━━━━━━━━━━━━━━━━━━━━━━━━━━━━━\u001b[0m \u001b[32m13.8/13.8 MB\u001b[0m \u001b[31m65.3 MB/s\u001b[0m eta \u001b[36m0:00:00\u001b[0m\n",
            "\u001b[2K   \u001b[90m━━━━━━━━━━━━━━━━━━━━━━━━━━━━━━━━━━━━━━━━\u001b[0m \u001b[32m24.6/24.6 MB\u001b[0m \u001b[31m35.6 MB/s\u001b[0m eta \u001b[36m0:00:00\u001b[0m\n",
            "\u001b[2K   \u001b[90m━━━━━━━━━━━━━━━━━━━━━━━━━━━━━━━━━━━━━━━━\u001b[0m \u001b[32m883.7/883.7 kB\u001b[0m \u001b[31m40.8 MB/s\u001b[0m eta \u001b[36m0:00:00\u001b[0m\n",
            "\u001b[2K   \u001b[90m━━━━━━━━━━━━━━━━━━━━━━━━━━━━━━━━━━━━━━━━\u001b[0m \u001b[32m664.8/664.8 MB\u001b[0m \u001b[31m2.8 MB/s\u001b[0m eta \u001b[36m0:00:00\u001b[0m\n",
            "\u001b[2K   \u001b[90m━━━━━━━━━━━━━━━━━━━━━━━━━━━━━━━━━━━━━━━━\u001b[0m \u001b[32m211.5/211.5 MB\u001b[0m \u001b[31m5.7 MB/s\u001b[0m eta \u001b[36m0:00:00\u001b[0m\n",
            "\u001b[2K   \u001b[90m━━━━━━━━━━━━━━━━━━━━━━━━━━━━━━━━━━━━━━━━\u001b[0m \u001b[32m56.3/56.3 MB\u001b[0m \u001b[31m12.5 MB/s\u001b[0m eta \u001b[36m0:00:00\u001b[0m\n",
            "\u001b[2K   \u001b[90m━━━━━━━━━━━━━━━━━━━━━━━━━━━━━━━━━━━━━━━━\u001b[0m \u001b[32m127.9/127.9 MB\u001b[0m \u001b[31m6.8 MB/s\u001b[0m eta \u001b[36m0:00:00\u001b[0m\n",
            "\u001b[2K   \u001b[90m━━━━━━━━━━━━━━━━━━━━━━━━━━━━━━━━━━━━━━━━\u001b[0m \u001b[32m207.5/207.5 MB\u001b[0m \u001b[31m5.7 MB/s\u001b[0m eta \u001b[36m0:00:00\u001b[0m\n",
            "\u001b[2K   \u001b[90m━━━━━━━━━━━━━━━━━━━━━━━━━━━━━━━━━━━━━━━━\u001b[0m \u001b[32m21.1/21.1 MB\u001b[0m \u001b[31m77.5 MB/s\u001b[0m eta \u001b[36m0:00:00\u001b[0m\n",
            "\u001b[?25h"
          ]
        }
      ]
    },
    {
      "cell_type": "code",
      "source": [
        "!pip install supervision"
      ],
      "metadata": {
        "colab": {
          "base_uri": "https://localhost:8080/"
        },
        "id": "Pdm3wxPghRs2",
        "outputId": "a5df06b9-5de0-4c8a-e149-cc65d754bd76"
      },
      "execution_count": null,
      "outputs": [
        {
          "output_type": "stream",
          "name": "stdout",
          "text": [
            "Collecting supervision\n",
            "  Downloading supervision-0.25.1-py3-none-any.whl.metadata (14 kB)\n",
            "Requirement already satisfied: contourpy>=1.0.7 in /usr/local/lib/python3.11/dist-packages (from supervision) (1.3.1)\n",
            "Requirement already satisfied: defusedxml<0.8.0,>=0.7.1 in /usr/local/lib/python3.11/dist-packages (from supervision) (0.7.1)\n",
            "Requirement already satisfied: matplotlib>=3.6.0 in /usr/local/lib/python3.11/dist-packages (from supervision) (3.10.0)\n",
            "Requirement already satisfied: numpy>=1.21.2 in /usr/local/lib/python3.11/dist-packages (from supervision) (2.0.2)\n",
            "Requirement already satisfied: opencv-python>=4.5.5.64 in /usr/local/lib/python3.11/dist-packages (from supervision) (4.11.0.86)\n",
            "Requirement already satisfied: pillow>=9.4 in /usr/local/lib/python3.11/dist-packages (from supervision) (11.1.0)\n",
            "Requirement already satisfied: pyyaml>=5.3 in /usr/local/lib/python3.11/dist-packages (from supervision) (6.0.2)\n",
            "Requirement already satisfied: requests>=2.26.0 in /usr/local/lib/python3.11/dist-packages (from supervision) (2.32.3)\n",
            "Requirement already satisfied: scipy<2.0.0,>=1.10.0 in /usr/local/lib/python3.11/dist-packages (from supervision) (1.14.1)\n",
            "Requirement already satisfied: tqdm>=4.62.3 in /usr/local/lib/python3.11/dist-packages (from supervision) (4.67.1)\n",
            "Requirement already satisfied: cycler>=0.10 in /usr/local/lib/python3.11/dist-packages (from matplotlib>=3.6.0->supervision) (0.12.1)\n",
            "Requirement already satisfied: fonttools>=4.22.0 in /usr/local/lib/python3.11/dist-packages (from matplotlib>=3.6.0->supervision) (4.57.0)\n",
            "Requirement already satisfied: kiwisolver>=1.3.1 in /usr/local/lib/python3.11/dist-packages (from matplotlib>=3.6.0->supervision) (1.4.8)\n",
            "Requirement already satisfied: packaging>=20.0 in /usr/local/lib/python3.11/dist-packages (from matplotlib>=3.6.0->supervision) (24.2)\n",
            "Requirement already satisfied: pyparsing>=2.3.1 in /usr/local/lib/python3.11/dist-packages (from matplotlib>=3.6.0->supervision) (3.2.3)\n",
            "Requirement already satisfied: python-dateutil>=2.7 in /usr/local/lib/python3.11/dist-packages (from matplotlib>=3.6.0->supervision) (2.8.2)\n",
            "Requirement already satisfied: charset-normalizer<4,>=2 in /usr/local/lib/python3.11/dist-packages (from requests>=2.26.0->supervision) (3.4.1)\n",
            "Requirement already satisfied: idna<4,>=2.5 in /usr/local/lib/python3.11/dist-packages (from requests>=2.26.0->supervision) (3.7)\n",
            "Requirement already satisfied: urllib3<3,>=1.21.1 in /usr/local/lib/python3.11/dist-packages (from requests>=2.26.0->supervision) (2.3.0)\n",
            "Requirement already satisfied: certifi>=2017.4.17 in /usr/local/lib/python3.11/dist-packages (from requests>=2.26.0->supervision) (2025.1.31)\n",
            "Requirement already satisfied: six>=1.5 in /usr/local/lib/python3.11/dist-packages (from python-dateutil>=2.7->matplotlib>=3.6.0->supervision) (1.17.0)\n",
            "Downloading supervision-0.25.1-py3-none-any.whl (181 kB)\n",
            "\u001b[?25l   \u001b[90m━━━━━━━━━━━━━━━━━━━━━━━━━━━━━━━━━━━━━━━━\u001b[0m \u001b[32m0.0/181.5 kB\u001b[0m \u001b[31m?\u001b[0m eta \u001b[36m-:--:--\u001b[0m\r\u001b[2K   \u001b[90m━━━━━━━━━━━━━━━━━━━━━━━━━━━━━━━━━━━━━━━━\u001b[0m \u001b[32m181.5/181.5 kB\u001b[0m \u001b[31m12.6 MB/s\u001b[0m eta \u001b[36m0:00:00\u001b[0m\n",
            "\u001b[?25hInstalling collected packages: supervision\n",
            "Successfully installed supervision-0.25.1\n"
          ]
        }
      ]
    },
    {
      "cell_type": "code",
      "source": [
        "!pip install inference-cli && inference server start"
      ],
      "metadata": {
        "colab": {
          "base_uri": "https://localhost:8080/"
        },
        "id": "BkLLm9i0OZBa",
        "outputId": "4950de0a-872a-41ec-a020-6cb28bccf53a"
      },
      "execution_count": null,
      "outputs": [
        {
          "output_type": "stream",
          "name": "stdout",
          "text": [
            "Collecting inference-cli\n",
            "  Downloading inference_cli-0.46.5-py3-none-any.whl.metadata (12 kB)\n",
            "Requirement already satisfied: requests<3.0.0,>=2.32.0 in /usr/local/lib/python3.11/dist-packages (from inference-cli) (2.32.3)\n",
            "Collecting docker<8.0.0,>=7.0.0 (from inference-cli)\n",
            "  Downloading docker-7.1.0-py3-none-any.whl.metadata (3.8 kB)\n",
            "Collecting typer<=0.12.5,>=0.9.0 (from inference-cli)\n",
            "  Downloading typer-0.12.5-py3-none-any.whl.metadata (15 kB)\n",
            "Requirement already satisfied: rich<13.10.0,>=13.0.0 in /usr/local/lib/python3.11/dist-packages (from inference-cli) (13.9.4)\n",
            "Requirement already satisfied: PyYAML~=6.0.0 in /usr/local/lib/python3.11/dist-packages (from inference-cli) (6.0.2)\n",
            "Requirement already satisfied: supervision<=0.30.0,>=0.25.1 in /usr/local/lib/python3.11/dist-packages (from inference-cli) (0.25.1)\n",
            "Collecting opencv-python<=4.10.0.84,>=4.8.1.78 (from inference-cli)\n",
            "  Downloading opencv_python-4.10.0.84-cp37-abi3-manylinux_2_17_x86_64.manylinux2014_x86_64.whl.metadata (20 kB)\n",
            "Requirement already satisfied: tqdm<5.0.0,>=4.0.0 in /usr/local/lib/python3.11/dist-packages (from inference-cli) (4.67.1)\n",
            "Requirement already satisfied: nvidia-ml-py<13.0.0 in /usr/local/lib/python3.11/dist-packages (from inference-cli) (12.570.86)\n",
            "Requirement already satisfied: py-cpuinfo~=9.0.0 in /usr/local/lib/python3.11/dist-packages (from inference-cli) (9.0.0)\n",
            "Collecting aiohttp<=3.10.11,>=3.9.0 (from inference-cli)\n",
            "  Downloading aiohttp-3.10.11-cp311-cp311-manylinux_2_17_x86_64.manylinux2014_x86_64.whl.metadata (7.7 kB)\n",
            "Collecting backoff~=2.2.0 (from inference-cli)\n",
            "  Downloading backoff-2.2.1-py3-none-any.whl.metadata (14 kB)\n",
            "Collecting pandas<3.0.0,>=2.2.3 (from inference-cli)\n",
            "  Downloading pandas-2.2.3-cp311-cp311-manylinux_2_17_x86_64.manylinux2014_x86_64.whl.metadata (89 kB)\n",
            "\u001b[2K     \u001b[90m━━━━━━━━━━━━━━━━━━━━━━━━━━━━━━━━━━━━━━━━\u001b[0m \u001b[32m89.9/89.9 kB\u001b[0m \u001b[31m5.6 MB/s\u001b[0m eta \u001b[36m0:00:00\u001b[0m\n",
            "\u001b[?25hCollecting rich<13.10.0,>=13.0.0 (from inference-cli)\n",
            "  Downloading rich-13.0.1-py3-none-any.whl.metadata (18 kB)\n",
            "Collecting pybase64~=1.0.0 (from inference-cli)\n",
            "  Downloading pybase64-1.0.2.tar.gz (105 kB)\n",
            "\u001b[2K     \u001b[90m━━━━━━━━━━━━━━━━━━━━━━━━━━━━━━━━━━━━━━━\u001b[0m \u001b[32m105.7/105.7 kB\u001b[0m \u001b[31m6.2 MB/s\u001b[0m eta \u001b[36m0:00:00\u001b[0m\n",
            "\u001b[?25h  Installing build dependencies ... \u001b[?25l\u001b[?25hdone\n",
            "  Getting requirements to build wheel ... \u001b[?25l\u001b[?25hdone\n",
            "  Preparing metadata (pyproject.toml) ... \u001b[?25l\u001b[?25hdone\n",
            "Requirement already satisfied: pydantic<2.12.0,>=2.8.0 in /usr/local/lib/python3.11/dist-packages (from inference-cli) (2.11.3)\n",
            "Collecting dataclasses-json~=0.6.0 (from inference-cli)\n",
            "  Downloading dataclasses_json-0.6.7-py3-none-any.whl.metadata (25 kB)\n",
            "Requirement already satisfied: pillow<12.0,>=11.0 in /usr/local/lib/python3.11/dist-packages (from inference-cli) (11.1.0)\n",
            "Requirement already satisfied: numpy<2.3.0,>=2.0.0 in /usr/local/lib/python3.11/dist-packages (from inference-cli) (2.0.2)\n",
            "Requirement already satisfied: aiohappyeyeballs>=2.3.0 in /usr/local/lib/python3.11/dist-packages (from aiohttp<=3.10.11,>=3.9.0->inference-cli) (2.6.1)\n",
            "Requirement already satisfied: aiosignal>=1.1.2 in /usr/local/lib/python3.11/dist-packages (from aiohttp<=3.10.11,>=3.9.0->inference-cli) (1.3.2)\n",
            "Requirement already satisfied: attrs>=17.3.0 in /usr/local/lib/python3.11/dist-packages (from aiohttp<=3.10.11,>=3.9.0->inference-cli) (25.3.0)\n",
            "Requirement already satisfied: frozenlist>=1.1.1 in /usr/local/lib/python3.11/dist-packages (from aiohttp<=3.10.11,>=3.9.0->inference-cli) (1.5.0)\n",
            "Requirement already satisfied: multidict<7.0,>=4.5 in /usr/local/lib/python3.11/dist-packages (from aiohttp<=3.10.11,>=3.9.0->inference-cli) (6.4.2)\n",
            "Requirement already satisfied: yarl<2.0,>=1.12.0 in /usr/local/lib/python3.11/dist-packages (from aiohttp<=3.10.11,>=3.9.0->inference-cli) (1.19.0)\n",
            "Collecting marshmallow<4.0.0,>=3.18.0 (from dataclasses-json~=0.6.0->inference-cli)\n",
            "  Downloading marshmallow-3.26.1-py3-none-any.whl.metadata (7.3 kB)\n",
            "Collecting typing-inspect<1,>=0.4.0 (from dataclasses-json~=0.6.0->inference-cli)\n",
            "  Downloading typing_inspect-0.9.0-py3-none-any.whl.metadata (1.5 kB)\n",
            "Requirement already satisfied: urllib3>=1.26.0 in /usr/local/lib/python3.11/dist-packages (from docker<8.0.0,>=7.0.0->inference-cli) (2.3.0)\n",
            "Requirement already satisfied: python-dateutil>=2.8.2 in /usr/local/lib/python3.11/dist-packages (from pandas<3.0.0,>=2.2.3->inference-cli) (2.8.2)\n",
            "Requirement already satisfied: pytz>=2020.1 in /usr/local/lib/python3.11/dist-packages (from pandas<3.0.0,>=2.2.3->inference-cli) (2025.2)\n",
            "Requirement already satisfied: tzdata>=2022.7 in /usr/local/lib/python3.11/dist-packages (from pandas<3.0.0,>=2.2.3->inference-cli) (2025.2)\n",
            "Requirement already satisfied: annotated-types>=0.6.0 in /usr/local/lib/python3.11/dist-packages (from pydantic<2.12.0,>=2.8.0->inference-cli) (0.7.0)\n",
            "Requirement already satisfied: pydantic-core==2.33.1 in /usr/local/lib/python3.11/dist-packages (from pydantic<2.12.0,>=2.8.0->inference-cli) (2.33.1)\n",
            "Requirement already satisfied: typing-extensions>=4.12.2 in /usr/local/lib/python3.11/dist-packages (from pydantic<2.12.0,>=2.8.0->inference-cli) (4.13.1)\n",
            "Requirement already satisfied: typing-inspection>=0.4.0 in /usr/local/lib/python3.11/dist-packages (from pydantic<2.12.0,>=2.8.0->inference-cli) (0.4.0)\n",
            "Requirement already satisfied: charset-normalizer<4,>=2 in /usr/local/lib/python3.11/dist-packages (from requests<3.0.0,>=2.32.0->inference-cli) (3.4.1)\n",
            "Requirement already satisfied: idna<4,>=2.5 in /usr/local/lib/python3.11/dist-packages (from requests<3.0.0,>=2.32.0->inference-cli) (3.7)\n",
            "Requirement already satisfied: certifi>=2017.4.17 in /usr/local/lib/python3.11/dist-packages (from requests<3.0.0,>=2.32.0->inference-cli) (2025.1.31)\n",
            "Collecting commonmark<0.10.0,>=0.9.0 (from rich<13.10.0,>=13.0.0->inference-cli)\n",
            "  Downloading commonmark-0.9.1-py2.py3-none-any.whl.metadata (5.7 kB)\n",
            "Requirement already satisfied: pygments<3.0.0,>=2.6.0 in /usr/local/lib/python3.11/dist-packages (from rich<13.10.0,>=13.0.0->inference-cli) (2.18.0)\n",
            "Requirement already satisfied: contourpy>=1.0.7 in /usr/local/lib/python3.11/dist-packages (from supervision<=0.30.0,>=0.25.1->inference-cli) (1.3.1)\n",
            "Requirement already satisfied: defusedxml<0.8.0,>=0.7.1 in /usr/local/lib/python3.11/dist-packages (from supervision<=0.30.0,>=0.25.1->inference-cli) (0.7.1)\n",
            "Requirement already satisfied: matplotlib>=3.6.0 in /usr/local/lib/python3.11/dist-packages (from supervision<=0.30.0,>=0.25.1->inference-cli) (3.10.0)\n",
            "Requirement already satisfied: scipy<2.0.0,>=1.10.0 in /usr/local/lib/python3.11/dist-packages (from supervision<=0.30.0,>=0.25.1->inference-cli) (1.14.1)\n",
            "Requirement already satisfied: click>=8.0.0 in /usr/local/lib/python3.11/dist-packages (from typer<=0.12.5,>=0.9.0->inference-cli) (8.1.8)\n",
            "Requirement already satisfied: shellingham>=1.3.0 in /usr/local/lib/python3.11/dist-packages (from typer<=0.12.5,>=0.9.0->inference-cli) (1.5.4)\n",
            "Requirement already satisfied: packaging>=17.0 in /usr/local/lib/python3.11/dist-packages (from marshmallow<4.0.0,>=3.18.0->dataclasses-json~=0.6.0->inference-cli) (24.2)\n",
            "Requirement already satisfied: cycler>=0.10 in /usr/local/lib/python3.11/dist-packages (from matplotlib>=3.6.0->supervision<=0.30.0,>=0.25.1->inference-cli) (0.12.1)\n",
            "Requirement already satisfied: fonttools>=4.22.0 in /usr/local/lib/python3.11/dist-packages (from matplotlib>=3.6.0->supervision<=0.30.0,>=0.25.1->inference-cli) (4.57.0)\n",
            "Requirement already satisfied: kiwisolver>=1.3.1 in /usr/local/lib/python3.11/dist-packages (from matplotlib>=3.6.0->supervision<=0.30.0,>=0.25.1->inference-cli) (1.4.8)\n",
            "Requirement already satisfied: pyparsing>=2.3.1 in /usr/local/lib/python3.11/dist-packages (from matplotlib>=3.6.0->supervision<=0.30.0,>=0.25.1->inference-cli) (3.2.3)\n",
            "Requirement already satisfied: six>=1.5 in /usr/local/lib/python3.11/dist-packages (from python-dateutil>=2.8.2->pandas<3.0.0,>=2.2.3->inference-cli) (1.17.0)\n",
            "Collecting mypy-extensions>=0.3.0 (from typing-inspect<1,>=0.4.0->dataclasses-json~=0.6.0->inference-cli)\n",
            "  Downloading mypy_extensions-1.0.0-py3-none-any.whl.metadata (1.1 kB)\n",
            "Requirement already satisfied: propcache>=0.2.1 in /usr/local/lib/python3.11/dist-packages (from yarl<2.0,>=1.12.0->aiohttp<=3.10.11,>=3.9.0->inference-cli) (0.3.1)\n",
            "Downloading inference_cli-0.46.5-py3-none-any.whl (111 kB)\n",
            "\u001b[2K   \u001b[90m━━━━━━━━━━━━━━━━━━━━━━━━━━━━━━━━━━━━━━━━\u001b[0m \u001b[32m111.9/111.9 kB\u001b[0m \u001b[31m9.8 MB/s\u001b[0m eta \u001b[36m0:00:00\u001b[0m\n",
            "\u001b[?25hDownloading aiohttp-3.10.11-cp311-cp311-manylinux_2_17_x86_64.manylinux2014_x86_64.whl (1.3 MB)\n",
            "\u001b[2K   \u001b[90m━━━━━━━━━━━━━━━━━━━━━━━━━━━━━━━━━━━━━━━━\u001b[0m \u001b[32m1.3/1.3 MB\u001b[0m \u001b[31m61.4 MB/s\u001b[0m eta \u001b[36m0:00:00\u001b[0m\n",
            "\u001b[?25hDownloading backoff-2.2.1-py3-none-any.whl (15 kB)\n",
            "Downloading dataclasses_json-0.6.7-py3-none-any.whl (28 kB)\n",
            "Downloading docker-7.1.0-py3-none-any.whl (147 kB)\n",
            "\u001b[2K   \u001b[90m━━━━━━━━━━━━━━━━━━━━━━━━━━━━━━━━━━━━━━━━\u001b[0m \u001b[32m147.8/147.8 kB\u001b[0m \u001b[31m13.3 MB/s\u001b[0m eta \u001b[36m0:00:00\u001b[0m\n",
            "\u001b[?25hDownloading opencv_python-4.10.0.84-cp37-abi3-manylinux_2_17_x86_64.manylinux2014_x86_64.whl (62.5 MB)\n",
            "\u001b[2K   \u001b[90m━━━━━━━━━━━━━━━━━━━━━━━━━━━━━━━━━━━━━━━━\u001b[0m \u001b[32m62.5/62.5 MB\u001b[0m \u001b[31m11.1 MB/s\u001b[0m eta \u001b[36m0:00:00\u001b[0m\n",
            "\u001b[?25hDownloading pandas-2.2.3-cp311-cp311-manylinux_2_17_x86_64.manylinux2014_x86_64.whl (13.1 MB)\n",
            "\u001b[2K   \u001b[90m━━━━━━━━━━━━━━━━━━━━━━━━━━━━━━━━━━━━━━━━\u001b[0m \u001b[32m13.1/13.1 MB\u001b[0m \u001b[31m117.9 MB/s\u001b[0m eta \u001b[36m0:00:00\u001b[0m\n",
            "\u001b[?25hDownloading rich-13.0.1-py3-none-any.whl (238 kB)\n",
            "\u001b[2K   \u001b[90m━━━━━━━━━━━━━━━━━━━━━━━━━━━━━━━━━━━━━━━━\u001b[0m \u001b[32m238.1/238.1 kB\u001b[0m \u001b[31m20.8 MB/s\u001b[0m eta \u001b[36m0:00:00\u001b[0m\n",
            "\u001b[?25hDownloading typer-0.12.5-py3-none-any.whl (47 kB)\n",
            "\u001b[2K   \u001b[90m━━━━━━━━━━━━━━━━━━━━━━━━━━━━━━━━━━━━━━━━\u001b[0m \u001b[32m47.3/47.3 kB\u001b[0m \u001b[31m4.1 MB/s\u001b[0m eta \u001b[36m0:00:00\u001b[0m\n",
            "\u001b[?25hDownloading commonmark-0.9.1-py2.py3-none-any.whl (51 kB)\n",
            "\u001b[2K   \u001b[90m━━━━━━━━━━━━━━━━━━━━━━━━━━━━━━━━━━━━━━━━\u001b[0m \u001b[32m51.1/51.1 kB\u001b[0m \u001b[31m4.7 MB/s\u001b[0m eta \u001b[36m0:00:00\u001b[0m\n",
            "\u001b[?25hDownloading marshmallow-3.26.1-py3-none-any.whl (50 kB)\n",
            "\u001b[2K   \u001b[90m━━━━━━━━━━━━━━━━━━━━━━━━━━━━━━━━━━━━━━━━\u001b[0m \u001b[32m50.9/50.9 kB\u001b[0m \u001b[31m4.4 MB/s\u001b[0m eta \u001b[36m0:00:00\u001b[0m\n",
            "\u001b[?25hDownloading typing_inspect-0.9.0-py3-none-any.whl (8.8 kB)\n",
            "Downloading mypy_extensions-1.0.0-py3-none-any.whl (4.7 kB)\n",
            "Building wheels for collected packages: pybase64\n",
            "  Building wheel for pybase64 (pyproject.toml) ... \u001b[?25l\u001b[?25hdone\n",
            "  Created wheel for pybase64: filename=pybase64-1.0.2-cp311-cp311-linux_x86_64.whl size=146806 sha256=7d24e792dd0abb030866801231615d86923561781ce33f4f8275abe87e10a6df\n",
            "  Stored in directory: /root/.cache/pip/wheels/3d/c0/15/5e79fe7fd3f97ebaf4c080e7c337fb06c1d01bc61905dcb26b\n",
            "Successfully built pybase64\n",
            "Installing collected packages: commonmark, rich, pybase64, opencv-python, mypy-extensions, marshmallow, backoff, typing-inspect, typer, pandas, docker, aiohttp, dataclasses-json, inference-cli\n",
            "  Attempting uninstall: rich\n",
            "    Found existing installation: rich 13.9.4\n",
            "    Uninstalling rich-13.9.4:\n",
            "      Successfully uninstalled rich-13.9.4\n",
            "  Attempting uninstall: opencv-python\n",
            "    Found existing installation: opencv-python 4.11.0.86\n",
            "    Uninstalling opencv-python-4.11.0.86:\n",
            "      Successfully uninstalled opencv-python-4.11.0.86\n",
            "  Attempting uninstall: typer\n",
            "    Found existing installation: typer 0.15.2\n",
            "    Uninstalling typer-0.15.2:\n",
            "      Successfully uninstalled typer-0.15.2\n",
            "  Attempting uninstall: pandas\n",
            "    Found existing installation: pandas 2.2.2\n",
            "    Uninstalling pandas-2.2.2:\n",
            "      Successfully uninstalled pandas-2.2.2\n",
            "  Attempting uninstall: aiohttp\n",
            "    Found existing installation: aiohttp 3.11.15\n",
            "    Uninstalling aiohttp-3.11.15:\n",
            "      Successfully uninstalled aiohttp-3.11.15\n",
            "\u001b[31mERROR: pip's dependency resolver does not currently take into account all the packages that are installed. This behaviour is the source of the following dependency conflicts.\n",
            "google-colab 1.0.0 requires pandas==2.2.2, but you have pandas 2.2.3 which is incompatible.\n",
            "pymc 5.21.2 requires rich>=13.7.1, but you have rich 13.0.1 which is incompatible.\u001b[0m\u001b[31m\n",
            "\u001b[0mSuccessfully installed aiohttp-3.10.11 backoff-2.2.1 commonmark-0.9.1 dataclasses-json-0.6.7 docker-7.1.0 inference-cli-0.46.5 marshmallow-3.26.1 mypy-extensions-1.0.0 opencv-python-4.10.0.84 pandas-2.2.3 pybase64-1.0.2 rich-13.0.1 typer-0.12.5 typing-inspect-0.9.0\n",
            "Error connecting to Docker daemon. Is docker installed and running? See https://www.docker.com/get-started/ for installation instructions.\n"
          ]
        }
      ]
    },
    {
      "cell_type": "code",
      "source": [
        "from IPython import display\n",
        "from IPython.display import display, Image\n",
        "import ultralytics\n",
        "ultralytics.checks()\n",
        "from ultralytics import YOLO\n",
        "import roboflow\n",
        "from roboflow import Roboflow\n",
        "import supervision as sv"
      ],
      "metadata": {
        "colab": {
          "base_uri": "https://localhost:8080/"
        },
        "id": "hZqtmnQcgdp8",
        "outputId": "d33d0259-5697-47f0-9a38-2e871280783e"
      },
      "execution_count": null,
      "outputs": [
        {
          "output_type": "stream",
          "name": "stdout",
          "text": [
            "Ultralytics 8.3.108 🚀 Python-3.11.12 torch-2.6.0+cu124 CUDA:0 (Tesla T4, 15095MiB)\n",
            "Setup complete ✅ (2 CPUs, 12.7 GB RAM, 41.7/112.6 GB disk)\n"
          ]
        }
      ]
    },
    {
      "cell_type": "code",
      "source": [
        "rf = Roboflow(api_key=\"i3BGaPOhMiWUsxRoek1U\")"
      ],
      "metadata": {
        "id": "66YJbSRvhazn"
      },
      "execution_count": null,
      "outputs": []
    },
    {
      "cell_type": "code",
      "source": [
        "!inference server start"
      ],
      "metadata": {
        "colab": {
          "base_uri": "https://localhost:8080/"
        },
        "id": "ZGht2gumUtqg",
        "outputId": "c828e774-4fa0-4f26-cd31-b481152fbbba"
      },
      "execution_count": null,
      "outputs": [
        {
          "output_type": "stream",
          "name": "stdout",
          "text": [
            "Error connecting to Docker daemon. Is docker installed and running? See https://www.docker.com/get-started/ for installation instructions.\n"
          ]
        }
      ]
    },
    {
      "cell_type": "code",
      "source": [
        "import cv2\n",
        "import os\n",
        "from inference_sdk import InferenceHTTPClient\n",
        "\n",
        "client = InferenceHTTPClient(\n",
        "    api_url=\"https://detect.roboflow.com\",  # use cloud endpoint\n",
        "    api_key=\"i3BGaPOhMiWUsxRoek1U\"\n",
        ")\n",
        "\n",
        "# Set input image and output directory\n",
        "image_path = \"/content/00FN460 (1).jpg\"\n",
        "output_dir = \"/content/cropped_objects\"\n",
        "os.makedirs(output_dir, exist_ok=True)\n",
        "\n",
        "result = client.run_workflow(\n",
        "    workspace_name=\"d3ewastedataset\",\n",
        "    workflow_id=\"custom-workflow-2\",\n",
        "    images={\"image\": image_path}\n",
        ")\n",
        "\n",
        "# Load image\n",
        "image = cv2.imread(image_path)\n",
        "\n",
        "#print(result)\n",
        "from pprint import pprint\n",
        "pprint(result)\n",
        "print(\"Top-level type:\", type(result))\n",
        "\n",
        "\n",
        "# Crop and print each bounding box\n",
        "boxes = result[0]['predictions']['predictions']\n",
        "\n",
        "for idx, pred in enumerate(boxes):\n",
        "    x = int(pred['x'])\n",
        "    y = int(pred['y'])\n",
        "    w = int(pred['width'])\n",
        "    h = int(pred['height'])\n",
        "\n",
        "    # Convert center-based to corner-based coordinates\n",
        "    x1 = max(x - w // 2, 0)\n",
        "    y1 = max(y - h // 2, 0)\n",
        "    x2 = min(x + w // 2, image.shape[1])\n",
        "    y2 = min(y + h // 2, image.shape[0])\n",
        "\n",
        "    print(f\"[{idx}] Label: {pred.get('class', 'object')}, Confidence: {pred['confidence']:.2f}\")\n",
        "    print(f\"     Center (x, y): ({x}, {y}), Width: {w}, Height: {h}\")\n",
        "    print(f\"     Top-left: ({x1}, {y1}), Bottom-right: ({x2}, {y2})\")\n",
        "\n",
        "    # Crop the object\n",
        "    cropped = image[y1:y2, x1:x2]\n",
        "\n",
        "    # Save the crop\n",
        "    label = pred.get('class', 'object')\n",
        "    conf = pred.get('confidence', 0.0)\n",
        "    filename = f\"{label}_{idx}_conf{conf:.2f}.jpg\"\n",
        "    cv2.imwrite(os.path.join(output_dir, filename), cropped)\n",
        "\n",
        "print(f\"\\n✅ Saved {len(boxes)} cropped images to '{output_dir}'\")\n"
      ],
      "metadata": {
        "colab": {
          "base_uri": "https://localhost:8080/"
        },
        "id": "Vn5mEHTq5ren",
        "outputId": "9e832454-3979-4ff4-ee10-30bcf5905089"
      },
      "execution_count": null,
      "outputs": [
        {
          "output_type": "stream",
          "name": "stdout",
          "text": [
            "[{'predictions': {'image': {'height': 4608, 'width': 3456},\n",
            "                  'predictions': [{'class': 'text',\n",
            "                                   'class_id': 5,\n",
            "                                   'confidence': 0.9458624720573425,\n",
            "                                   'detection_id': '18c78dda-f0f2-4e14-80da-b8d9d19a0a4d',\n",
            "                                   'height': 2643.0,\n",
            "                                   'parent_id': 'image',\n",
            "                                   'width': 1954.0,\n",
            "                                   'x': 1678.0,\n",
            "                                   'y': 2557.5}]}}]\n",
            "Top-level type: <class 'list'>\n",
            "[0] Label: text, Confidence: 0.95\n",
            "     Center (x, y): (1678, 2557), Width: 1954, Height: 2643\n",
            "     Top-left: (701, 1236), Bottom-right: (2655, 3878)\n",
            "\n",
            "✅ Saved 1 cropped images to '/content/cropped_objects'\n"
          ]
        }
      ]
    },
    {
      "cell_type": "code",
      "source": [
        "import os\n",
        "import cv2\n",
        "from inference_sdk import InferenceHTTPClient\n",
        "\n",
        "# Setup inference client\n",
        "client = InferenceHTTPClient(\n",
        "    api_url=\"https://detect.roboflow.com\",  # Cloud endpoint\n",
        "    api_key=\"i3BGaPOhMiWUsxRoek1U\"\n",
        ")\n",
        "\n",
        "# Directories\n",
        "input_dir = \"/content\"\n",
        "output_dir = \"/content/cropped_objects\"\n",
        "os.makedirs(output_dir, exist_ok=True)\n",
        "\n",
        "# Loop through all .jpg/.jpeg files (case-insensitive)\n",
        "for filename in os.listdir(input_dir):\n",
        "    if filename.lower().endswith((\".jpg\", \".jpeg\")):\n",
        "        image_path = os.path.join(input_dir, filename)\n",
        "\n",
        "        # Run inference using the image path (string)\n",
        "        try:\n",
        "            result = client.run_workflow(\n",
        "                workspace_name=\"d3ewastedataset\",\n",
        "                workflow_id=\"custom-workflow-2\",\n",
        "                images={\"image\": image_path}\n",
        "            )\n",
        "        except Exception as e:\n",
        "            print(f\"❌ Failed inference for {filename}: {e}\")\n",
        "            continue\n",
        "\n",
        "        # Load image for cropping\n",
        "        image = cv2.imread(image_path)\n",
        "        if image is None:\n",
        "            print(f\"❌ Could not load image: {filename}\")\n",
        "            continue\n",
        "\n",
        "        # Extract bounding boxes\n",
        "        try:\n",
        "            boxes = result[0]['predictions']['predictions']\n",
        "        except Exception as e:\n",
        "            print(f\"⚠️  No predictions or error parsing result for {filename}: {e}\")\n",
        "            continue\n",
        "\n",
        "        # Crop and save each box\n",
        "        base_name = os.path.splitext(filename)[0]\n",
        "        for idx, pred in enumerate(boxes):\n",
        "            x = int(pred['x'])\n",
        "            y = int(pred['y'])\n",
        "            w = int(pred['width'])\n",
        "            h = int(pred['height'])\n",
        "\n",
        "            x1 = max(x - w // 2, 0)\n",
        "            y1 = max(y - h // 2, 0)\n",
        "            x2 = min(x + w // 2, image.shape[1])\n",
        "            y2 = min(y + h // 2, image.shape[0])\n",
        "\n",
        "            cropped = image[y1:y2, x1:x2]\n",
        "            save_name = f\"{base_name}_crop{idx}.jpg\"\n",
        "            cv2.imwrite(os.path.join(output_dir, save_name), cropped)\n",
        "\n",
        "        print(f\"✅ Processed {filename} → {len(boxes)} crops saved\")\n",
        "\n",
        "print(\"\\n🎉 All images processed and cropped.\")\n"
      ],
      "metadata": {
        "colab": {
          "base_uri": "https://localhost:8080/"
        },
        "id": "_JDbPt2aoFgL",
        "outputId": "1d45d373-5c3a-430a-8967-bf01a68fe347"
      },
      "execution_count": null,
      "outputs": [
        {
          "output_type": "stream",
          "name": "stdout",
          "text": [
            "✅ Processed 73-610-002a.JPG → 0 crops saved\n",
            "✅ Processed CF402A a.jpg → 1 crops saved\n",
            "✅ Processed BWDA1320NA...A1a.JPG → 1 crops saved\n",
            "✅ Processed DSC_0055.jpg → 1 crops saved\n",
            "✅ Processed DSC_0043.jpg → 1 crops saved\n",
            "✅ Processed 45N0304 c.JPG → 1 crops saved\n",
            "✅ Processed 00FN460 (1).jpg → 1 crops saved\n",
            "✅ Processed 3.5.2024 JA 2-21.jpg → 2 crops saved\n",
            "✅ Processed DSC_0056.jpg → 1 crops saved\n",
            "✅ Processed DSC_0005.JPG → 1 crops saved\n",
            "✅ Processed 1K2866c.JPG → 1 crops saved\n",
            "✅ Processed 00N7718a.jpg → 0 crops saved\n",
            "✅ Processed IMG_2033.jpg → 0 crops saved\n",
            "✅ Processed DSC_0009.jpg → 1 crops saved\n",
            "✅ Processed DSC_0038.jpg → 1 crops saved\n",
            "✅ Processed 13-2000 C Grade a.JPG → 1 crops saved\n",
            "✅ Processed TN746B a.JPG → 1 crops saved\n",
            "✅ Processed 3.15.2024 JA 1-10.jpg → 2 crops saved\n",
            "✅ Processed 4.29.2024 JA 1-13.jpg → 1 crops saved\n",
            "✅ Processed IMG_2034.jpg → 0 crops saved\n",
            "✅ Processed 2.12.2024 JA 1-46.jpg → 1 crops saved\n",
            "✅ Processed 3.15.2024 JA 1-13.jpg → 3 crops saved\n",
            "✅ Processed WD15 (3).jpg → 2 crops saved\n",
            "✅ Processed 3.5.2024 JA 2-33.jpg → 0 crops saved\n",
            "✅ Processed DSC02465.JPG → 1 crops saved\n",
            "✅ Processed 3.5.2024 JA 2-2.jpg → 0 crops saved\n",
            "✅ Processed C7200-I 0-2FE E b.JPG → 1 crops saved\n",
            "✅ Processed DSC_0006.JPG → 1 crops saved\n",
            "✅ Processed 4.1.2024 JA 1-17.jpg → 1 crops saved\n",
            "✅ Processed 1K1019a.JPG → 1 crops saved\n",
            "✅ Processed 630-7667 a.JPG → 1 crops saved\n",
            "✅ Processed 3.15.2024 JA 1-81.jpg → 1 crops saved\n",
            "✅ Processed 2DP99AA#ABC (2).jpg → 1 crops saved\n",
            "✅ Processed 200SERIES A.JPG → 1 crops saved\n",
            "✅ Processed 4.29.2024 JA 1-55.jpg → 1 crops saved\n",
            "✅ Processed 1C2278-037 EMC (1).jpg → 1 crops saved\n",
            "✅ Processed 4.1.2024 JA 1-39.jpg → 0 crops saved\n",
            "✅ Processed 09P3640 a.JPG → 0 crops saved\n",
            "✅ Processed 4.29.2024 JA 1-6.jpg → 1 crops saved\n",
            "❌ Failed inference for 4ISK B(1).JPG: HTTPCallErrorError(description='413 Client Error: Request Entity Too Large for url: https://detect.roboflow.com/d3ewastedataset/workflows/custom-workflow-2', api_message='Request Entity Too Large',status_code=413)\n",
            "✅ Processed Tektronix 2465A b.JPG → 1 crops saved\n",
            "✅ Processed VGAcable.jpg → 0 crops saved\n",
            "✅ Processed DSC_0047.jpg → 0 crops saved\n",
            "✅ Processed 4.1.2024 JA 1-2.jpg → 0 crops saved\n",
            "✅ Processed DSC_0082.jpg → 0 crops saved\n",
            "✅ Processed TGA 2050 A.JPG → 0 crops saved\n",
            "✅ Processed RBE-100 a.JPG → 1 crops saved\n",
            "✅ Processed NT8D02EB a.JPG → 0 crops saved\n",
            "✅ Processed Tektronix 2465A a.JPG → 4 crops saved\n",
            "✅ Processed 614-0361 a.JPG → 2 crops saved\n",
            "✅ Processed SERIES400 B.JPG → 0 crops saved\n",
            "✅ Processed 4.1.2024 JA 1-34.jpg → 0 crops saved\n",
            "✅ Processed WS-X6516-GBICc.JPG → 0 crops saved\n",
            "✅ Processed 3.18.2024 JA 1-10.jpg → 2 crops saved\n",
            "✅ Processed DSC_0090.jpg → 1 crops saved\n",
            "✅ Processed 3.5.2024 JA 2-10.jpg → 1 crops saved\n",
            "✅ Processed 3.15.2024 JA 1-53.jpg → 3 crops saved\n",
            "✅ Processed VetSafe 700 a.JPG → 1 crops saved\n",
            "✅ Processed 02R0998 b.JPG → 1 crops saved\n",
            "✅ Processed 4.29.2024 JA 1-14.jpg → 1 crops saved\n",
            "✅ Processed 0Y6FC (1).jpg → 1 crops saved\n",
            "✅ Processed 250 G8 Notebook PC B(1).JPG → 1 crops saved\n",
            "✅ Processed 3.5.2024 JA 2-122.jpg → 0 crops saved\n",
            "✅ Processed DSC_0059.jpg → 1 crops saved\n",
            "✅ Processed 4.1.2024 JA 1-9.jpg → 1 crops saved\n",
            "✅ Processed A1432 16GB C Grade - White_c.JPG → 1 crops saved\n",
            "✅ Processed 2.12.2024 JA 1-38.jpg → 1 crops saved\n",
            "✅ Processed 0957-2084a.JPG → 1 crops saved\n",
            "✅ Processed 75-000784 b.jpg → 1 crops saved\n",
            "✅ Processed 1664 (3).jpg → 0 crops saved\n",
            "\n",
            "🎉 All images processed and cropped.\n"
          ]
        }
      ]
    },
    {
      "cell_type": "code",
      "source": [
        "!zip -r /content/cropped_objects.zip /content/cropped_objects/"
      ],
      "metadata": {
        "colab": {
          "base_uri": "https://localhost:8080/"
        },
        "id": "R1Y11wldrNMM",
        "outputId": "c3771a25-2781-403b-c847-e08076cef419"
      },
      "execution_count": null,
      "outputs": [
        {
          "output_type": "stream",
          "name": "stdout",
          "text": [
            "  adding: content/cropped_objects/ (stored 0%)\n",
            "  adding: content/cropped_objects/3.15.2024 JA 1-53_crop0.jpg (deflated 0%)\n",
            "  adding: content/cropped_objects/1K1019a_crop0.jpg (deflated 0%)\n",
            "  adding: content/cropped_objects/3.15.2024 JA 1-81_crop0.jpg (deflated 0%)\n",
            "  adding: content/cropped_objects/A1432 16GB C Grade - White_c_crop0.jpg (deflated 0%)\n",
            "  adding: content/cropped_objects/614-0361 a_crop0.jpg (deflated 1%)\n",
            "  adding: content/cropped_objects/45N0304 c_crop0.jpg (deflated 0%)\n",
            "  adding: content/cropped_objects/BWDA1320NA...A1a_crop0.jpg (deflated 0%)\n",
            "  adding: content/cropped_objects/VetSafe 700 a_crop0.jpg (deflated 0%)\n",
            "  adding: content/cropped_objects/text_0_conf0.95.jpg (deflated 0%)\n",
            "  adding: content/cropped_objects/DSC_0059_crop0.jpg (deflated 0%)\n",
            "  adding: content/cropped_objects/630-7667 a_crop0.jpg (deflated 2%)\n",
            "  adding: content/cropped_objects/RBE-100 a_crop0.jpg (deflated 2%)\n",
            "  adding: content/cropped_objects/3.15.2024 JA 1-53_crop2.jpg (deflated 1%)\n",
            "  adding: content/cropped_objects/4.29.2024 JA 1-6_crop0.jpg (deflated 0%)\n",
            "  adding: content/cropped_objects/4.29.2024 JA 1-14_crop0.jpg (deflated 0%)\n",
            "  adding: content/cropped_objects/3.18.2024 JA 1-10_crop0.jpg (deflated 0%)\n",
            "  adding: content/cropped_objects/DSC_0038_crop0.jpg (deflated 0%)\n",
            "  adding: content/cropped_objects/00FN460 (1)_crop0.jpg (deflated 0%)\n",
            "  adding: content/cropped_objects/3.18.2024 JA 1-10_crop1.jpg (deflated 0%)\n",
            "  adding: content/cropped_objects/3.15.2024 JA 1-10_crop1.jpg (deflated 0%)\n",
            "  adding: content/cropped_objects/DSC_0056_crop0.jpg (deflated 0%)\n",
            "  adding: content/cropped_objects/3.5.2024 JA 2-10_crop0.jpg (deflated 0%)\n",
            "  adding: content/cropped_objects/C7200-I 0-2FE E b_crop0.jpg (deflated 0%)\n",
            "  adding: content/cropped_objects/0957-2084a_crop0.jpg (deflated 0%)\n",
            "  adding: content/cropped_objects/DSC_0009_crop0.jpg (deflated 0%)\n",
            "  adding: content/cropped_objects/Tektronix 2465A a_crop3.jpg (deflated 1%)\n",
            "  adding: content/cropped_objects/250 G8 Notebook PC B(1)_crop0.jpg (deflated 0%)\n",
            "  adding: content/cropped_objects/DSC_0090_crop0.jpg (deflated 0%)\n",
            "  adding: content/cropped_objects/614-0361 a_crop1.jpg (deflated 1%)\n",
            "  adding: content/cropped_objects/2DP99AA#ABC (2)_crop0.jpg (deflated 0%)\n",
            "  adding: content/cropped_objects/4.29.2024 JA 1-55_crop0.jpg (deflated 0%)\n",
            "  adding: content/cropped_objects/WD15 (3)_crop1.jpg (deflated 0%)\n",
            "  adding: content/cropped_objects/4.1.2024 JA 1-9_crop0.jpg (deflated 2%)\n",
            "  adding: content/cropped_objects/3.15.2024 JA 1-13_crop1.jpg (deflated 1%)\n",
            "  adding: content/cropped_objects/1C2278-037 EMC (1)_crop0.jpg (deflated 0%)\n",
            "  adding: content/cropped_objects/3.15.2024 JA 1-10_crop0.jpg (deflated 1%)\n",
            "  adding: content/cropped_objects/75-000784 b_crop0.jpg (deflated 0%)\n",
            "  adding: content/cropped_objects/13-2000 C Grade a_crop0.jpg (deflated 9%)\n",
            "  adding: content/cropped_objects/3.15.2024 JA 1-13_crop0.jpg (deflated 0%)\n",
            "  adding: content/cropped_objects/Tektronix 2465A b_crop0.jpg (deflated 0%)\n",
            "  adding: content/cropped_objects/DSC_0005_crop0.jpg (deflated 0%)\n",
            "  adding: content/cropped_objects/02R0998 b_crop0.jpg (deflated 0%)\n",
            "  adding: content/cropped_objects/4.1.2024 JA 1-17_crop0.jpg (deflated 0%)\n",
            "  adding: content/cropped_objects/DSC_0055_crop0.jpg (deflated 0%)\n",
            "  adding: content/cropped_objects/DSC_0006_crop0.jpg (deflated 0%)\n",
            "  adding: content/cropped_objects/TN746B a_crop0.jpg (deflated 1%)\n",
            "  adding: content/cropped_objects/WD15 (3)_crop0.jpg (deflated 0%)\n",
            "  adding: content/cropped_objects/Tektronix 2465A a_crop1.jpg (deflated 0%)\n",
            "  adding: content/cropped_objects/2.12.2024 JA 1-38_crop0.jpg (deflated 0%)\n",
            "  adding: content/cropped_objects/CF402A a_crop0.jpg (deflated 0%)\n",
            "  adding: content/cropped_objects/1K2866c_crop0.jpg (deflated 0%)\n",
            "  adding: content/cropped_objects/3.5.2024 JA 2-21_crop0.jpg (deflated 1%)\n",
            "  adding: content/cropped_objects/4.29.2024 JA 1-13_crop0.jpg (deflated 0%)\n",
            "  adding: content/cropped_objects/3.5.2024 JA 2-21_crop1.jpg (deflated 2%)\n",
            "  adding: content/cropped_objects/2.12.2024 JA 1-46_crop0.jpg (deflated 0%)\n",
            "  adding: content/cropped_objects/DSC_0043_crop0.jpg (deflated 0%)\n",
            "  adding: content/cropped_objects/0Y6FC (1)_crop0.jpg (deflated 0%)\n",
            "  adding: content/cropped_objects/200SERIES A_crop0.jpg (deflated 0%)\n",
            "  adding: content/cropped_objects/3.15.2024 JA 1-53_crop1.jpg (deflated 2%)\n",
            "  adding: content/cropped_objects/Tektronix 2465A a_crop0.jpg (deflated 0%)\n",
            "  adding: content/cropped_objects/3.15.2024 JA 1-13_crop2.jpg (deflated 2%)\n",
            "  adding: content/cropped_objects/Tektronix 2465A a_crop2.jpg (deflated 2%)\n",
            "  adding: content/cropped_objects/DSC02465_crop0.jpg (deflated 0%)\n"
          ]
        }
      ]
    },
    {
      "cell_type": "code",
      "source": [],
      "metadata": {
        "id": "mQZzEimerRAW"
      },
      "execution_count": null,
      "outputs": []
    }
  ]
}
