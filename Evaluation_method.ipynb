{
  "nbformat": 4,
  "nbformat_minor": 0,
  "metadata": {
    "colab": {
      "provenance": []
    },
    "kernelspec": {
      "name": "python3",
      "display_name": "Python 3"
    },
    "language_info": {
      "name": "python"
    }
  },
  "cells": [
    {
      "cell_type": "code",
      "execution_count": 3,
      "metadata": {
        "id": "auVTbV5z9q9x"
      },
      "outputs": [],
      "source": [
        "import pandas as pd\n",
        "import re\n",
        "import matplotlib.pyplot as plt\n",
        "import seaborn as sns\n",
        "\n",
        "def normalize_text(text, english_only=True):\n",
        "    text = text.lower().replace('\\n', ' ').replace('\\r', ' ')\n",
        "    if english_only:\n",
        "        # Keep only English letters, digits, common symbols\n",
        "        text = re.sub(r\"[^a-z0-9.,!?;:'\\\"()\\[\\]{}<>@#$%^&*\\-_=+ ]\", '', text)\n",
        "    return text.strip()\n",
        "\n",
        "def levenshtein_distance(s1, s2):\n",
        "    if len(s1) < len(s2):\n",
        "        return levenshtein_distance(s2, s1)\n",
        "    if len(s2) == 0:\n",
        "        return len(s1)\n",
        "    previous_row = list(range(len(s2) + 1))\n",
        "    for i, c1 in enumerate(s1):\n",
        "        current_row = [i + 1]\n",
        "        for j, c2 in enumerate(s2):\n",
        "            insertions = previous_row[j + 1] + 1\n",
        "            deletions = current_row[j] + 1\n",
        "            substitutions = previous_row[j] + (c1 != c2)\n",
        "            current_row.append(min(insertions, deletions, substitutions))\n",
        "        previous_row = current_row\n",
        "    return previous_row[-1]\n",
        "\n",
        "def cer(gt, pred):\n",
        "    if not gt:\n",
        "        return 1.0 if pred else 0.0\n",
        "    return levenshtein_distance(gt, pred) / len(gt)\n",
        "\n",
        "def wer(gt, pred):\n",
        "    gt_words = gt.split()\n",
        "    pred_words = pred.split()\n",
        "    return levenshtein_distance(gt_words, pred_words) / len(gt_words) if gt_words else 1.0\n",
        "\n",
        "def EvaluateOCR(csv_name, gt_colname, detected_colname, mode=\"CER\", english_only=True, visualize=False):\n",
        "    df = pd.read_csv(csv_name)\n",
        "    gt_texts = df[gt_colname].fillna(\"\").map(lambda x: normalize_text(x, english_only))\n",
        "    pred_texts = df[detected_colname].fillna(\"\").map(lambda x: normalize_text(x, english_only))\n",
        "\n",
        "    scores = []\n",
        "    for gt, pred in zip(gt_texts, pred_texts):\n",
        "        if mode == \"CER\":\n",
        "            score = cer(gt, pred)\n",
        "        elif mode == \"WER\":\n",
        "            score = wer(gt, pred)\n",
        "        elif mode == \"LEV\":\n",
        "            score = levenshtein_distance(gt, pred)\n",
        "        else:\n",
        "            raise ValueError(\"Mode must be 'CER', 'WER', or 'LEV'\")\n",
        "        scores.append(score)\n",
        "\n",
        "    avg_score = sum(scores) / len(scores)\n",
        "    print(f\"{mode} (English only = {english_only}): {avg_score}\")\n",
        "\n",
        "    if visualize:\n",
        "        sns.histplot(scores, bins=20, kde=True, color='coral')\n",
        "        plt.title(f'{mode} Distribution')\n",
        "        plt.xlabel(mode)\n",
        "        plt.ylabel('Frequency')\n",
        "        plt.grid(True)\n",
        "        plt.show()\n",
        "\n",
        "    return avg_score, scores\n"
      ]
    },
    {
      "cell_type": "code",
      "source": [
        "EvaluateOCR(\"Qwen3b_GT - Sheet1.csv\", \"Human-recognized Text\", \"recognized_text\", mode=\"CER\", english_only=True, visualize=True)\n"
      ],
      "metadata": {
        "colab": {
          "base_uri": "https://localhost:8080/",
          "height": 1000
        },
        "id": "P080PVCTJaAm",
        "outputId": "30656b65-e51f-4038-9cf5-aa22c3dd2d64"
      },
      "execution_count": 4,
      "outputs": [
        {
          "output_type": "stream",
          "name": "stdout",
          "text": [
            "CER (English only = True): 0.11006182711755075\n"
          ]
        },
        {
          "output_type": "display_data",
          "data": {
            "text/plain": [
              "<Figure size 640x480 with 1 Axes>"
            ],
            "image/png": "[encoded data removed]"
          },
          "metadata": {}
        },
        {
          "output_type": "execute_result",
          "data": {
            "text/plain": [
              "(0.11006182711755075,\n",
              " [0.4368029739776952,\n",
              "  0.34196891191709844,\n",
              "  0.014192139737991267,\n",
              "  0.01015228426395939,\n",
              "  0.09022556390977443,\n",
              "  0.001996007984031936,\n",
              "  0.0,\n",
              "  0.1981747066492829,\n",
              "  0.23529411764705882,\n",
              "  0.5277777777777778,\n",
              "  0.14465408805031446,\n",
              "  0.5060240963855421,\n",
              "  0.023952095808383235,\n",
              "  0.0,\n",
              "  0.27241379310344827,\n",
              "  0.0,\n",
              "  0.027777777777777776,\n",
              "  0.0,\n",
              "  0.3271604938271605,\n",
              "  0.0,\n",
              "  0.0,\n",
              "  0.01092896174863388,\n",
              "  0.0,\n",
              "  0.0,\n",
              "  0.216,\n",
              "  0.0,\n",
              "  0.0,\n",
              "  0.0,\n",
              "  0.0,\n",
              "  0.0,\n",
              "  0.0,\n",
              "  0.0,\n",
              "  0.5714285714285714,\n",
              "  0.0,\n",
              "  0.01092896174863388,\n",
              "  0.0,\n",
              "  0.07142857142857142,\n",
              "  0.0,\n",
              "  0.0,\n",
              "  0.0,\n",
              "  0.13043478260869565,\n",
              "  0.0,\n",
              "  0.5372093023255814,\n",
              "  0.0,\n",
              "  0.0,\n",
              "  0.0,\n",
              "  0.0,\n",
              "  0.07142857142857142,\n",
              "  0.09722222222222222,\n",
              "  0.0,\n",
              "  0.07407407407407407,\n",
              "  0.0,\n",
              "  0.0,\n",
              "  0.0,\n",
              "  0.0,\n",
              "  0.09090909090909091,\n",
              "  1.0450643776824033,\n",
              "  0.01576182136602452,\n",
              "  0.0,\n",
              "  0.1111111111111111,\n",
              "  0.6012145748987854,\n",
              "  0.010121457489878543])"
            ]
          },
          "metadata": {},
          "execution_count": 4
        }
      ]
    }
  ]
}